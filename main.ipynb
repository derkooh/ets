{
 "cells": [
  {
   "cell_type": "markdown",
   "metadata": {},
   "source": [
    "# Predict Average Global Temperature over Time\n",
    "<p>We've seen that notebooks can display basic objects such as numbers and strings. But notebooks also support the objects used in data science, which makes them great for interactive data analysis!</p>\n",
    "<p>For example, below we create a data frame by reading in a <code>csv</code>-file with the average global temperature for the years 1850 to 2016. If we look at the <code>head</code> of this data frame the notebook will render it as a nice-looking table.</p>"
   ]
  },
  {
   "cell_type": "code",
   "execution_count": 7,
   "metadata": {},
   "outputs": [
    {
     "data": {
      "text/html": [
       "<table>\n",
       "<thead><tr><th scope=col>year</th><th scope=col>degrees_celsius</th></tr></thead>\n",
       "<tbody>\n",
       "\t<tr><td>1850</td><td>7.74</td></tr>\n",
       "\t<tr><td>1851</td><td>8.09</td></tr>\n",
       "\t<tr><td>1852</td><td>7.97</td></tr>\n",
       "\t<tr><td>1853</td><td>7.93</td></tr>\n",
       "\t<tr><td>1854</td><td>8.19</td></tr>\n",
       "\t<tr><td>1855</td><td>8.12</td></tr>\n",
       "</tbody>\n",
       "</table>\n"
      ],
      "text/latex": [
       "\\begin{tabular}{r|ll}\n",
       " year & degrees\\_celsius\\\\\n",
       "\\hline\n",
       "\t 1850 & 7.74\\\\\n",
       "\t 1851 & 8.09\\\\\n",
       "\t 1852 & 7.97\\\\\n",
       "\t 1853 & 7.93\\\\\n",
       "\t 1854 & 8.19\\\\\n",
       "\t 1855 & 8.12\\\\\n",
       "\\end{tabular}\n"
      ],
      "text/markdown": [
       "\n",
       "| year | degrees_celsius |\n",
       "|---|---|\n",
       "| 1850 | 7.74 |\n",
       "| 1851 | 8.09 |\n",
       "| 1852 | 7.97 |\n",
       "| 1853 | 7.93 |\n",
       "| 1854 | 8.19 |\n",
       "| 1855 | 8.12 |\n",
       "\n"
      ],
      "text/plain": [
       "  year degrees_celsius\n",
       "1 1850 7.74           \n",
       "2 1851 8.09           \n",
       "3 1852 7.97           \n",
       "4 1853 7.93           \n",
       "5 1854 8.19           \n",
       "6 1855 8.12           "
      ]
     },
     "metadata": {},
     "output_type": "display_data"
    }
   ],
   "source": [
    "# Reading in the global temperature data,data\n",
    "global_temp <- read.csv(\"datasets/global_temperature.csv\")\n",
    "\n",
    "# Take a look at the first datapoints\n",
    "head(global_temp)"
   ]
  },
  {
   "cell_type": "markdown",
   "metadata": {},
   "source": [
    "## Plot Temperature Data\n",
    "Tables are nice but — as the saying goes — \"a plot can show a thousand data points\". Notebooks handle plots as well and all plots created in code cells will automatically be displayed inline.\n",
    "\n",
    "Let's take a look at the global temperature for the last 150 years."
   ]
  },
  {
   "cell_type": "code",
   "execution_count": 2,
   "metadata": {},
   "outputs": [
    {
     "data": {
      "image/png": "[encoded data removed]",
      "text/plain": [
       "plot without title"
      ]
     },
     "metadata": {},
     "output_type": "display_data"
    }
   ],
   "source": [
    "# Plotting global temperature in degrees celsius by year.\n",
    "plot(global_temp$year, global_temp$degrees_celsius, \n",
    "     type = \"l\", col = \"forestgreen\", \n",
    "     xlab = \"....\", ylab = \"....\")"
   ]
  },
  {
   "cell_type": "markdown",
   "metadata": {},
   "source": [
    "## ETS Model\n",
    "\n",
    "Tables and plots are the most common outputs when doing data science and, as these outputs are rendered inline, notebooks works great not only for doing a data analysis but also for showing a data analysis. A finished notebook contains both the result and the code that produced it. This is useful when you want to share your findings or if you need to update your analysis with new data.\n",
    "\n",
    "Let's add some advanced data analysis to our notebook! For example, this (slightly complicated) code forecasts the global temperature 50 years into the future using an exponential smoothing state space model (ets).\n",
    "\n",
    "Note: Global temperature is a complex phenomenon and exponential smoothing is likely not a good model here. This is just an example of how easy it is to do (and show) complex forecasting in a Jupyter notebook."
   ]
  },
  {
   "cell_type": "code",
   "execution_count": 4,
   "metadata": {},
   "outputs": [
    {
     "data": {
      "image/png": "[encoded data removed]",
      "text/plain": [
       "plot without title"
      ]
     },
     "metadata": {},
     "output_type": "display_data"
    }
   ],
   "source": [
    "library(forecast)\n",
    "library(ggplot2)\n",
    "\n",
    "# Converting global_temp into a time series (ts) object.\n",
    "global_temp_ts <- ts(global_temp$degrees_celsius, \n",
    "                     start = global_temp$year[1])\n",
    "\n",
    "# Forecasting global temperature 50 years into the future \n",
    "# using an exponential smoothing state space model (ets).\n",
    "temperature_forecast <- forecast( ets(global_temp_ts), h = 50)\n",
    "\n",
    "# Plotting the forecast\n",
    "autoplot(temperature_forecast)"
   ]
  }
 ],
 "metadata": {
  "kernelspec": {
   "display_name": "R",
   "language": "R",
   "name": "ir"
  },
  "language_info": {
   "codemirror_mode": "r",
   "file_extension": ".r",
   "mimetype": "text/x-r-source",
   "name": "R",
   "pygments_lexer": "r",
   "version": "3.6.1"
  }
 },
 "nbformat": 4,
 "nbformat_minor": 4
}
